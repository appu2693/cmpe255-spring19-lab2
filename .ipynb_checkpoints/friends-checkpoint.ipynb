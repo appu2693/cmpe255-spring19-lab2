{
 "cells": [
  {
   "cell_type": "code",
   "execution_count": null,
   "metadata": {},
   "outputs": [],
   "source": [
    "def mean_num_friends(x):\n",
    "    # TODO\n",
    "    n = len(x)\n",
    "    sum_friends = sum(x)\n",
    "    mean = sum_friends/n\n",
    "    return mean\n",
    "\n",
    "def median_num_friends(x):\n",
    "    # TODO\n",
    "    n = len(x)\n",
    "    x.sort()\n",
    "    if  n % 2 ==0:\n",
    "        median1 = x[n//2]\n",
    "        median2 = x[n//2 - 1]\n",
    "        median  = (median1 + median2)/2\n",
    "    else:\n",
    "        median = x[n//2]\n",
    "    return median\n",
    "    \n",
    "num_friends=[100, 49, 41, 40, 25, 10, 5, 4, 7, 20, 60]\n",
    "print(\"mean={}\".format(mean_num_friends(num_friends)))\n",
    "\n",
    "print(\"median={}\".format(median_num_friends(num_friends)))"
   ]
  }
 ],
 "metadata": {
  "kernelspec": {
   "display_name": "Python 3",
   "language": "python",
   "name": "python3"
  },
  "language_info": {
   "codemirror_mode": {
    "name": "ipython",
    "version": 3
   },
   "file_extension": ".py",
   "mimetype": "text/x-python",
   "name": "python",
   "nbconvert_exporter": "python",
   "pygments_lexer": "ipython3",
   "version": "3.6.5"
  }
 },
 "nbformat": 4,
 "nbformat_minor": 2
}
